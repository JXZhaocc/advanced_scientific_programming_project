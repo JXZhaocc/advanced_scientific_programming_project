{
 "cells": [
  {
   "cell_type": "markdown",
   "id": "cec02d0a",
   "metadata": {},
   "source": [
    "# Result data analysis and chemical space check"
   ]
  },
  {
   "cell_type": "markdown",
   "id": "e6bda3b2",
   "metadata": {},
   "source": [
    "This notebook analyzes the prediciton result from a machine learning model. A cut off value is determined by the user to characterize how much error is acceptable and unacceptable. The the problematic compounds are checked to see if there are patterns, so we can improve the model."
   ]
  },
  {
   "cell_type": "code",
   "execution_count": null,
   "id": "6fe69cd3",
   "metadata": {},
   "outputs": [],
   "source": [
    "import pandas as pd\n",
    "import numpy as np\n",
    "import plotly.express as px\n",
    "import molplotly\n",
    "import umap\n",
    "import bamboolib as bam\n",
    "import joblib\n",
    "from sklearn.model_selection import train_test_split\n",
    "from sklearn.preprocessing import StandardScaler\n",
    "from sklearn.metrics import mean_squared_error\n",
    "from sklearn.metrics import r2_score\n",
    "from rdkit import Chem\n",
    "from rdkit.Chem import AllChem, DataStructs\n",
    "from rdkit.Chem import Draw"
   ]
  },
  {
   "cell_type": "markdown",
   "id": "0212c724",
   "metadata": {},
   "source": [
    "## Input area"
   ]
  },
  {
   "cell_type": "code",
   "execution_count": null,
   "id": "42a4f069",
   "metadata": {},
   "outputs": [],
   "source": [
    "data_path = 'your/data/path.csv'\n",
    "model_name = 'your_model.pkl'\n",
    "cut_off = 1.0\n",
    "\n",
    "data = pd.read_csv(data_path)\n",
    "model = joblib.load(model_name)"
   ]
  },
  {
   "cell_type": "markdown",
   "id": "3d3b2b98",
   "metadata": {},
   "source": [
    "## extract wrongly predicted molecules"
   ]
  },
  {
   "cell_type": "code",
   "execution_count": null,
   "id": "86b9f514",
   "metadata": {},
   "outputs": [],
   "source": [
    "# Generate data set with smiles\n",
    "X_smi = data.drop(['solubility','sol_M','sol_log_M'], axis = 1)\n",
    "X_train_smi, X_test_smi = train_test_split(X_smi,test_size=0.2, random_state=42)"
   ]
  },
  {
   "cell_type": "code",
   "execution_count": null,
   "id": "87a3c469",
   "metadata": {},
   "outputs": [],
   "source": [
    "# Genereate dataset that can be used as input to the model\n",
    "X = data.drop(['smiles','sol_M','sol_log_M'], axis = 1)\n",
    "y = data['sol_log_M']\n",
    "X_train, X_test, y_train, y_test = train_test_split(X, y, test_size=0.2, random_state=42)\n",
    "\n",
    "std_scaler_x = StandardScaler()\n",
    "\n",
    "train_x = std_scaler_x.fit_transform(X_train)\n",
    "train_y = y_train.ravel()\n",
    "\n",
    "test_x = std_scaler_x.transform(X_test)\n",
    "test_y = y_test.ravel()"
   ]
  },
  {
   "cell_type": "code",
   "execution_count": null,
   "id": "3a231e0c",
   "metadata": {},
   "outputs": [],
   "source": [
    "# Some functions for metric and percentage calculation\n",
    "def metric(y_pred,y):\n",
    "    rmse = mean_squared_error(y, y_pred ,squared=False)\n",
    "    r_2 = r2_score(y,y_pred)\n",
    "    return rmse, r_2\n",
    "\n",
    "def percentage(analysis):\n",
    "    analysis['difference'] = np.abs(analysis['sol_pred'] - analysis['sol_log_M'])\n",
    "    analysis_error = analysis.loc[analysis['difference'] > cut_off]\n",
    "    ratio = len(analysis_error)/len(analysis)\n",
    "    return ratio, analysis_error"
   ]
  },
  {
   "cell_type": "code",
   "execution_count": null,
   "id": "c855ca8b",
   "metadata": {},
   "outputs": [],
   "source": [
    "# train evaluation\n",
    "train_predictions = model.predict(train_x)\n",
    "rmse_train, r2_train = metric(train_predictions, train_y)\n",
    "print('train rmse :', rmse_train,'\\n', 'train r^2 :', r2_train)\n",
    "\n",
    "# test evaluation\n",
    "test_predictions = model.predict(test_x)\n",
    "rmse_test, r2_test = metric(test_predictions,test_y)\n",
    "print('test rmse :', rmse_test,'\\n', 'test r^2 :', r2_test)"
   ]
  },
  {
   "cell_type": "code",
   "execution_count": null,
   "id": "12552a87",
   "metadata": {},
   "outputs": [],
   "source": [
    "# Check how many compounds in the dataset are exceeding the cut off and extract them\n",
    "error_analysis_train = pd.concat([X_train_smi,y_train],axis = 1)\n",
    "error_analysis_train['sol_pred'] = train_predictions\n",
    "log_percentage_train, error_data_train = percentage(error_analysis_train)\n",
    "print(f'train LogS ± {cut_off}%:', log_percentage_train)\n",
    "\n",
    "error_analysis_test = pd.concat([X_test_smi,y_test],axis = 1)\n",
    "error_analysis_test['sol_pred'] = test_predictions\n",
    "log_percentage_test, error_data_test = percentage(error_analysis_test)\n",
    "print(f'test LogS ± {cut_off}%:', log_percentage_test)"
   ]
  },
  {
   "cell_type": "markdown",
   "id": "ec12fe9b",
   "metadata": {},
   "source": [
    "## Check the structure of the wrongly predicted compounds"
   ]
  },
  {
   "cell_type": "code",
   "execution_count": null,
   "id": "c1d4868c",
   "metadata": {},
   "outputs": [],
   "source": [
    "smi = error_data_test['smiles'].to_list()\n",
    "smi =  [Chem.MolFromSmiles(compound) for compound in smi]\n",
    "img=Draw.MolsToGridImage(smi,molsPerRow=4,subImgSize=(200,200))  \n",
    "img"
   ]
  },
  {
   "cell_type": "markdown",
   "id": "941f51fd",
   "metadata": {},
   "source": [
    "## Check the chemical space with UMAP"
   ]
  },
  {
   "cell_type": "code",
   "execution_count": null,
   "id": "3b7478c1",
   "metadata": {},
   "outputs": [],
   "source": [
    "# Prepare dataset for UMAP, mark the categories\n",
    "error = error_data_test\n",
    "error = error[['smiles', 'sol_log_M', 'sol_pred', 'difference']]\n",
    "error['category'] = f'diff > {cut_off}'\n",
    "\n",
    "accept = error_analysis_test\n",
    "accept = accept[['smiles', 'sol_log_M', 'sol_pred', 'difference']]\n",
    "accept = accept.loc[~accept['smiles'].isin(error['smiles'])]\n",
    "accept['category'] = f'diff < {cut_off}'\n",
    "\n",
    "sol = pd.concat([accept, error])"
   ]
  },
  {
   "cell_type": "code",
   "execution_count": null,
   "id": "af8b6e0d",
   "metadata": {},
   "outputs": [],
   "source": [
    "sol['difference'] =sol['difference'].astype(str)"
   ]
  },
  {
   "cell_type": "code",
   "execution_count": null,
   "id": "67454b38",
   "metadata": {},
   "outputs": [],
   "source": [
    "# Caculate ECFP fingerprints 2018 bits and 3 radius\n",
    "def smi_to_fp(smi):\n",
    "    fp = AllChem.GetMorganFingerprintAsBitVect(Chem.MolFromSmiles(smi), 3, nBits=2048)\n",
    "    arr = np.zeros((0,), dtype=np.int8)\n",
    "    DataStructs.ConvertToNumpyArray(fp, arr)\n",
    "    return arr\n",
    "\n",
    "fps = np.array([smi_to_fp(smi) for smi in sol['smiles']])"
   ]
  },
  {
   "cell_type": "code",
   "execution_count": null,
   "id": "1e5d210c",
   "metadata": {},
   "outputs": [],
   "source": [
    "umap_model = umap.UMAP(metric = \"jaccard\",\n",
    "                      n_neighbors = 10,\n",
    "                      n_components = 2,\n",
    "                      low_memory = False,\n",
    "                      min_dist = 0.001)\n",
    "X_umap = umap_model.fit_transform(fps.reshape(-1, 2048))\n",
    "\n",
    "sol['UMAP-1'] = X_umap[:, 0]\n",
    "sol['UMAP-2'] = X_umap[:, 1]"
   ]
  },
  {
   "cell_type": "code",
   "execution_count": null,
   "id": "44af5f5f",
   "metadata": {},
   "outputs": [],
   "source": [
    "fig_umap = px.scatter(sol,\n",
    "                     x=\"UMAP-1\",\n",
    "                     y=\"UMAP-2\",\n",
    "                     title='Sol UMAP of morgan fingerprints',\n",
    "                     color='category',\n",
    "                     width=1200,\n",
    "                     height=800)"
   ]
  },
  {
   "cell_type": "code",
   "execution_count": null,
   "id": "4c6fcf86",
   "metadata": {},
   "outputs": [],
   "source": [
    "app_umap = molplotly.add_molecules(fig=fig_umap,\n",
    "                                  df=sol,\n",
    "                                  smiles_col='smiles',\n",
    "                                  title_col = 'difference',\n",
    "                                  color_col='category') # Note that title_col type cannot be int64, it can only be str"
   ]
  },
  {
   "cell_type": "code",
   "execution_count": null,
   "id": "2eec0013",
   "metadata": {},
   "outputs": [],
   "source": [
    "app_umap.run_server(mode='inline', port=8009, height=800) # Note the port cannot be used twice"
   ]
  }
 ],
 "metadata": {
  "kernelspec": {
   "display_name": "Python 3 (ipykernel)",
   "language": "python",
   "name": "python3"
  },
  "language_info": {
   "codemirror_mode": {
    "name": "ipython",
    "version": 3
   },
   "file_extension": ".py",
   "mimetype": "text/x-python",
   "name": "python",
   "nbconvert_exporter": "python",
   "pygments_lexer": "ipython3",
   "version": "3.10.4"
  }
 },
 "nbformat": 4,
 "nbformat_minor": 5
}
